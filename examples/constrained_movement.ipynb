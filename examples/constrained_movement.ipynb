{
 "cells": [
  {
   "cell_type": "code",
   "execution_count": 1,
   "metadata": {},
   "outputs": [
    {
     "ename": "ModuleNotFoundError",
     "evalue": "No module named 'geo3d.units'",
     "output_type": "error",
     "traceback": [
      "\u001b[1;31m---------------------------------------------------------------------------\u001b[0m",
      "\u001b[1;31mModuleNotFoundError\u001b[0m                       Traceback (most recent call last)",
      "\u001b[1;32m<ipython-input-1-dfe430b3d4c2>\u001b[0m in \u001b[0;36m<module>\u001b[1;34m\u001b[0m\n\u001b[0;32m      1\u001b[0m \u001b[1;32mimport\u001b[0m \u001b[0mnumpy\u001b[0m \u001b[1;32mas\u001b[0m \u001b[0mnp\u001b[0m\u001b[1;33m\u001b[0m\u001b[1;33m\u001b[0m\u001b[0m\n\u001b[0;32m      2\u001b[0m \u001b[1;32mfrom\u001b[0m \u001b[0mgeo3d\u001b[0m\u001b[1;33m.\u001b[0m\u001b[0mconstraints\u001b[0m \u001b[1;32mimport\u001b[0m \u001b[0mconstrained_movement_2D\u001b[0m\u001b[1;33m,\u001b[0m \u001b[0mconstrained_movement_3D\u001b[0m\u001b[1;33m,\u001b[0m \u001b[0mtrafo2D\u001b[0m\u001b[1;33m,\u001b[0m \u001b[0mtrafo3D\u001b[0m\u001b[1;33m\u001b[0m\u001b[1;33m\u001b[0m\u001b[0m\n\u001b[1;32m----> 3\u001b[1;33m \u001b[1;32mimport\u001b[0m \u001b[0mgeo3d\u001b[0m\u001b[1;33m.\u001b[0m\u001b[0munits\u001b[0m\u001b[1;33m\u001b[0m\u001b[1;33m\u001b[0m\u001b[0m\n\u001b[0m",
      "\u001b[1;31mModuleNotFoundError\u001b[0m: No module named 'geo3d.units'"
     ]
    }
   ],
   "source": [
    "import numpy as np\n",
    "from geo3d.constraints import constrained_movement_2D, constrained_movement_3D, trafo2D, trafo3D\n",
    "from geo3d.units import arcsec_in_degrees"
   ]
  },
  {
   "cell_type": "markdown",
   "metadata": {},
   "source": [
    "## constrained movement in 2D"
   ]
  },
  {
   "cell_type": "code",
   "execution_count": 3,
   "metadata": {},
   "outputs": [],
   "source": [
    "rs = [[0,1,0], [1,1,0], [2,0,0]]\n",
    "cs = [[0,-1,0], [0,-1,0], [-1,0,0]]\n",
    "ds = [0,0.2,0]"
   ]
  },
  {
   "cell_type": "code",
   "execution_count": 36,
   "metadata": {},
   "outputs": [
    {
     "data": {
      "text/html": [
       "\n",
       "            <table>\n",
       "                <tr>\n",
       "                    <th>rotation matrix</th>\n",
       "                    <th>Euler angles<br>(XYZ, extr., deg.)</th>\n",
       "                    <th>Euler angles<br>(XYZ, intr., deg.)</th>\n",
       "                    <th>translation<br></th>\n",
       "                </tr>\n",
       "                <tr><td><table><tr><td>0.98058068</td><td>0.19611614</td><td>0.00000000</td></tr><tr><td>-0.19611614</td><td>0.98058068</td><td>-0.00000000</td></tr><tr><td>-0.00000000</td><td>0.00000000</td><td>1.00000000</td></tr></table></td><td><table><tr><td>θx</td><td>0.00000</td></tr><tr><td>θy</td><td>0.00000</td></tr><tr><td>θz</td><td>-11.30993</td></tr></table></td><td><table><tr><td>θx</td><td>0.00000</td></tr><tr><td>θy</td><td>0.00000</td></tr><tr><td>θz</td><td>-11.30993</td></tr></table></td><td><table><tr><td>x</td><td>-0.04189</td></tr><tr><td>y</td><td>-0.01143</td></tr><tr><td>z</td><td>0.00000</td></tr></table></td></tr></table>"
      ],
      "text/plain": [
       "<geo3d.geometry.Frame at 0x8909470>"
      ]
     },
     "execution_count": 36,
     "metadata": {},
     "output_type": "execute_result"
    }
   ],
   "source": [
    "trafo2D(*constrained_movement_2D(rs, cs, ds))"
   ]
  },
  {
   "cell_type": "markdown",
   "metadata": {},
   "source": [
    "## constrained movement in 3D"
   ]
  },
  {
   "cell_type": "code",
   "execution_count": 37,
   "metadata": {},
   "outputs": [],
   "source": [
    "rs = [[0,1,0], [1,1,0], [2,0,0], [2,0.5,0], [0,0,4], [1,1,4]]\n",
    "cs = [[0,-1,0], [0,-1,0], [-1,0,0], [-1,0,0], [0,0,1], [0,0,1]]\n",
    "ds = [0,0,0,0,1,1]"
   ]
  },
  {
   "cell_type": "code",
   "execution_count": 45,
   "metadata": {},
   "outputs": [
    {
     "data": {
      "text/html": [
       "\n",
       "            <table>\n",
       "                <tr>\n",
       "                    <th>rotation matrix</th>\n",
       "                    <th>Euler angles<br>(XYZ, extr., deg.)</th>\n",
       "                    <th>Euler angles<br>(XYZ, intr., deg.)</th>\n",
       "                    <th>translation<br></th>\n",
       "                </tr>\n",
       "                <tr><td><table><tr><td>1.00000000</td><td>0.00000000</td><td>0.00000000</td></tr><tr><td>0.00000000</td><td>1.00000000</td><td>-0.00000000</td></tr><tr><td>0.00000000</td><td>0.00000000</td><td>1.00000000</td></tr></table></td><td><table><tr><td>θx</td><td>0.00000</td></tr><tr><td>θy</td><td>0.00000</td></tr><tr><td>θz</td><td>0.00000</td></tr></table></td><td><table><tr><td>θx</td><td>0.00000</td></tr><tr><td>θy</td><td>0.00000</td></tr><tr><td>θz</td><td>0.00000</td></tr></table></td><td><table><tr><td>x</td><td>0.00000</td></tr><tr><td>y</td><td>0.00000</td></tr><tr><td>z</td><td>1.00000</td></tr></table></td></tr></table>"
      ],
      "text/plain": [
       "<geo3d.geometry.Frame at 0x937c390>"
      ]
     },
     "execution_count": 45,
     "metadata": {},
     "output_type": "execute_result"
    }
   ],
   "source": [
    "trafo3D(*constrained_movement_3D(rs, cs, ds))"
   ]
  },
  {
   "cell_type": "code",
   "execution_count": 120,
   "metadata": {},
   "outputs": [
    {
     "name": "stdout",
     "output_type": "stream",
     "text": [
      "[57.97345551 48.12418794 74.20265875 29.20161112 22.28203187 10.64967756]\n"
     ]
    }
   ],
   "source": [
    "rs = [[-65.25,  -9.33, -38.25],\n",
    "      [ 54.25, -24.83, -38.25],\n",
    "      [-54.25, -24.83, -38.25],\n",
    "      [-54.25, -16.83, -37.00],\n",
    "      [ 54.25, -16.83, -37.00],\n",
    "      [  0.00,  61.17, -37.00]\n",
    "     ]\n",
    "cs = [\n",
    "    [1,0,0], \n",
    "    [0,1,0], \n",
    "    [0,1,0], \n",
    "    [0,0,1], \n",
    "    [0,0,1], \n",
    "    [0,0,1]\n",
    "    ]\n",
    "\n",
    "IP_acc = 27.6e-3\n",
    "OOP_acc = 17.9e-3\n",
    "ds_acc = [IP_acc,IP_acc,IP_acc,OOP_acc,OOP_acc,OOP_acc]\n",
    "\n",
    "ps = []\n",
    "for i,d in enumerate(ds_acc):\n",
    "    ds = np.zeros(6)\n",
    "    ds[i] = d\n",
    "    p = np.array(constrained_movement_3D(rs, cs, ds))\n",
    "    ps.append(p)\n",
    "ps = np.array(ps)\n",
    "acc = np.sqrt(np.sum(ps**2,0))\n",
    "acc[0:3] /= arcsec_in_degrees\n",
    "acc[3:] *=1000\n",
    "print(acc)"
   ]
  },
  {
   "cell_type": "markdown",
   "metadata": {},
   "source": [
    "## stochastic propagation of constraint accuracies"
   ]
  },
  {
   "cell_type": "code",
   "execution_count": 117,
   "metadata": {},
   "outputs": [
    {
     "name": "stdout",
     "output_type": "stream",
     "text": [
      "[57.55419308 47.90200523 74.62677806 29.2339069  22.39945243 10.51483746]\n"
     ]
    }
   ],
   "source": [
    "rs = [[-65.25,  -9.33, -38.25],\n",
    "      [ 54.25, -24.83, -38.25],\n",
    "      [-54.25, -24.83, -38.25],\n",
    "      [-54.25, -16.83, -37.00],\n",
    "      [ 54.25, -16.83, -37.00],\n",
    "      [  0.00,  61.17, -37.00]\n",
    "     ]\n",
    "cs = [\n",
    "    [1,0,0], \n",
    "    [0,1,0], \n",
    "    [0,1,0], \n",
    "    [0,0,1], \n",
    "    [0,0,1], \n",
    "    [0,0,1]\n",
    "    ]\n",
    "\n",
    "IP_acc = 27.6e-3\n",
    "OOP_acc = 17.9e-3\n",
    "ds_acc = [IP_acc,IP_acc,IP_acc,OOP_acc,OOP_acc,OOP_acc]\n",
    "\n",
    "# stochastic uncertainty propgation\n",
    "ps = []\n",
    "for i in range(5000):\n",
    "    ds = np.random.normal(scale=ds_acc)\n",
    "    p = np.array(constrained_movement_3D(rs, cs, ds))\n",
    "    ps.append(p)\n",
    "ps = np.array(ps)\n",
    "acc = np.std(ps,0)\n",
    "acc[0:3] /= arcsec_in_degrees\n",
    "acc[3:] *=1000\n",
    "print(acc)"
   ]
  }
 ],
 "metadata": {
  "kernelspec": {
   "display_name": "Python 3",
   "language": "python",
   "name": "python3"
  },
  "language_info": {
   "codemirror_mode": {
    "name": "ipython",
    "version": 3
   },
   "file_extension": ".py",
   "mimetype": "text/x-python",
   "name": "python",
   "nbconvert_exporter": "python",
   "pygments_lexer": "ipython3",
   "version": "3.7.3"
  }
 },
 "nbformat": 4,
 "nbformat_minor": 2
}
