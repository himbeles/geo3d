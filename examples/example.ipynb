{
 "cells": [
  {
   "cell_type": "code",
   "execution_count": 1,
   "metadata": {},
   "outputs": [],
   "source": [
    "from geo3d import frame_wizard, Vector, Point, trafo_between_frames, unit_frame\n",
    "\n",
    "import numpy as np"
   ]
  },
  {
   "cell_type": "code",
   "execution_count": 2,
   "metadata": {},
   "outputs": [
    {
     "data": {
      "text/html": [
       "\n",
       "            <table>\n",
       "                <tr>\n",
       "                    <th>rotation matrix</th>\n",
       "                    <th>Euler angles<br>(XYZ, extr., deg.)</th>\n",
       "                    <th>Euler angles<br>(XYZ, intr., deg.)</th>\n",
       "                    <th>translation<br></th>\n",
       "                </tr>\n",
       "                <tr><td><table><tr><td>0.19245009</td><td>0.41147560</td><td>-0.89087081</td></tr><tr><td>0.19245009</td><td>0.87438565</td><td>0.44543540</td></tr><tr><td>0.96225045</td><td>-0.25717225</td><td>0.08908708</td></tr></table></td><td><table><tr><td>θx</td><td>-70.89339</td></tr><tr><td>θy</td><td>-74.20683</td></tr><tr><td>θz</td><td>45.00000</td></tr></table></td><td><table><tr><td>θx</td><td>-78.69007</td></tr><tr><td>θy</td><td>-62.98288</td></tr><tr><td>θz</td><td>-64.93417</td></tr></table></td><td><table><tr><td>x</td><td>6.00000</td></tr><tr><td>y</td><td>4.00000</td></tr><tr><td>z</td><td>6.00000</td></tr></table></td></tr></table>"
      ],
      "text/plain": [
       "<geo3d.geometry.Frame at 0x869fdd8>"
      ]
     },
     "execution_count": 2,
     "metadata": {},
     "output_type": "execute_result"
    }
   ],
   "source": [
    "fa = frame_wizard(Vector([1,1,5]),Vector([1,2,0]), 'x', 'y', origin=[3,4,6])\n",
    "fb = frame_wizard(Vector([1,1,5]),Vector([1,2,0]), 'x', 'y', origin=[6,4,6])\n",
    "fb"
   ]
  },
  {
   "cell_type": "code",
   "execution_count": 5,
   "metadata": {},
   "outputs": [
    {
     "data": {
      "text/html": [
       "<table><tr><td>x</td><td>0.76980</td></tr><tr><td>y</td><td>3.03463</td></tr><tr><td>z</td><td>0.44544</td></tr></table>"
      ],
      "text/plain": [
       "<geo3d.geometry.Vector at 0x869f940>"
      ]
     },
     "execution_count": 5,
     "metadata": {},
     "output_type": "execute_result"
    }
   ],
   "source": [
    "Vector([1,3,0]).express_in_frame(fa)"
   ]
  },
  {
   "cell_type": "code",
   "execution_count": 6,
   "metadata": {},
   "outputs": [
    {
     "data": {
      "text/html": [
       "\n",
       "            <table>\n",
       "                <tr>\n",
       "                    <th>rotation matrix</th>\n",
       "                    <th>Euler angles<br>(XYZ, extr., deg.)</th>\n",
       "                    <th>Euler angles<br>(XYZ, intr., deg.)</th>\n",
       "                    <th>translation<br></th>\n",
       "                </tr>\n",
       "                <tr><td><table><tr><td>1.00000000</td><td>-0.00000000</td><td>0.00000000</td></tr><tr><td>-0.00000000</td><td>1.00000000</td><td>0.00000000</td></tr><tr><td>0.00000000</td><td>-0.00000000</td><td>1.00000000</td></tr></table></td><td><table><tr><td>θx</td><td>-0.00000</td></tr><tr><td>θy</td><td>0.00000</td></tr><tr><td>θz</td><td>-0.00000</td></tr></table></td><td><table><tr><td>θx</td><td>0.00000</td></tr><tr><td>θy</td><td>0.00000</td></tr><tr><td>θz</td><td>0.00000</td></tr></table></td><td><table><tr><td>x</td><td>0.57735</td></tr><tr><td>y</td><td>1.23443</td></tr><tr><td>z</td><td>-2.67261</td></tr></table></td></tr></table>"
      ],
      "text/plain": [
       "<geo3d.geometry.Frame at 0x87a0a90>"
      ]
     },
     "execution_count": 6,
     "metadata": {},
     "output_type": "execute_result"
    }
   ],
   "source": [
    "fb.express_in_frame(fa)"
   ]
  },
  {
   "cell_type": "code",
   "execution_count": null,
   "metadata": {},
   "outputs": [],
   "source": []
  }
 ],
 "metadata": {
  "kernelspec": {
   "display_name": "Python 3",
   "language": "python",
   "name": "python3"
  },
  "language_info": {
   "codemirror_mode": {
    "name": "ipython",
    "version": 3
   },
   "file_extension": ".py",
   "mimetype": "text/x-python",
   "name": "python",
   "nbconvert_exporter": "python",
   "pygments_lexer": "ipython3",
   "version": "3.7.3"
  }
 },
 "nbformat": 4,
 "nbformat_minor": 2
}
