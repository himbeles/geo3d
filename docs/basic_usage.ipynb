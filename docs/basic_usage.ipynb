{
 "cells": [
  {
   "cell_type": "markdown",
   "metadata": {},
   "source": [
    "# Basic usage of geo3d"
   ]
  },
  {
   "cell_type": "code",
   "execution_count": 1,
   "metadata": {},
   "outputs": [],
   "source": [
    "from geo3d import frame_wizard, Vector, Point, RotationMatrix, Frame, transformation_between_frames\n",
    "import numpy as np"
   ]
  },
  {
   "cell_type": "markdown",
   "metadata": {},
   "source": [
    "## Frame creation"
   ]
  },
  {
   "cell_type": "markdown",
   "metadata": {},
   "source": [
    "### Manual Frame cration\n",
    "Manually create frame from given rotation Euler angles and translation vector."
   ]
  },
  {
   "cell_type": "code",
   "execution_count": 2,
   "metadata": {},
   "outputs": [
    {
     "output_type": "execute_result",
     "data": {
      "text/plain": "&lt;geo3d.geometry.Frame at 0x23a9cae8040&gt;",
      "text/html": "\n            <table>\n                <tr>\n                    <th>rotation matrix</th>\n                    <th>Fixed angles<br>(xyz, extr., deg.)</th>\n                    <th>Euler angles<br>(xyz, intr., deg.)</th>\n                    <th>translation<br></th>\n                </tr>\n                <tr><td><table><tr><td>0.19245009</td><td>0.41147560</td><td>-0.89087081</td></tr><tr><td>0.19245009</td><td>0.87438565</td><td>0.44543540</td></tr><tr><td>0.96225045</td><td>-0.25717225</td><td>0.08908708</td></tr></table></td><td><table><tr><td>θx</td><td>-70.89339</td></tr><tr><td>θy</td><td>-74.20683</td></tr><tr><td>θz</td><td>45.00000</td></tr></table></td><td><table><tr><td>θx</td><td>-78.69007</td></tr><tr><td>θy</td><td>-62.98288</td></tr><tr><td>θz</td><td>-64.93417</td></tr></table></td><td><table><tr><td>x</td><td>3.00000</td></tr><tr><td>y</td><td>4.00000</td></tr><tr><td>z</td><td>6.00000</td></tr></table></td></tr></table>"
     },
     "metadata": {},
     "execution_count": 2
    }
   ],
   "source": [
    "rot = RotationMatrix.from_euler_angles('xyz', [-70.89339465, -74.20683095,  45], degrees=True)\n",
    "vec = Vector([3,4,6])\n",
    "Frame(rot,vec)"
   ]
  },
  {
   "cell_type": "markdown",
   "metadata": {},
   "source": [
    "### The Frame Wizard\n",
    "Create two frames using a Frame Wizard (comparable to the one in Spatial Analyzer).\n",
    "Frames are defined as transformations starting from a unit frame (no translation and rotation)."
   ]
  },
  {
   "cell_type": "code",
   "execution_count": 3,
   "metadata": {},
   "outputs": [],
   "source": [
    "# rotation only from UnitFrame\n",
    "fa = frame_wizard(Vector([1, 1, 0]), Vector([1, -1, 0]), \"x\", \"y\", origin=[0, 0, 0])\n",
    "# translation only from UnitFrame\n",
    "fb = frame_wizard(Vector([1, 0, 0]), Vector([0, 1, 0]), \"x\", \"y\", origin=[1, 1, 4])\n",
    "# rotation and translation from UnitFrame\n",
    "fc = frame_wizard(Vector([1, 1, 0]), Vector([1, -1, 0]), \"x\", \"y\", origin=[1, 1, 4])"
   ]
  },
  {
   "cell_type": "code",
   "execution_count": 4,
   "metadata": {},
   "outputs": [
    {
     "output_type": "execute_result",
     "data": {
      "text/plain": "&lt;geo3d.geometry.Frame at 0x23a9cae8c40&gt;",
      "text/html": "\n            <table>\n                <tr>\n                    <th>rotation matrix</th>\n                    <th>Fixed angles<br>(xyz, extr., deg.)</th>\n                    <th>Euler angles<br>(xyz, intr., deg.)</th>\n                    <th>translation<br></th>\n                </tr>\n                <tr><td><table><tr><td>0.70710678</td><td>0.70710678</td><td>0.00000000</td></tr><tr><td>0.70710678</td><td>-0.70710678</td><td>0.00000000</td></tr><tr><td>0.00000000</td><td>-0.00000000</td><td>-1.00000000</td></tr></table></td><td><table><tr><td>θx</td><td>180.00000</td></tr><tr><td>θy</td><td>0.00000</td></tr><tr><td>θz</td><td>45.00000</td></tr></table></td><td><table><tr><td>θx</td><td>180.00000</td></tr><tr><td>θy</td><td>0.00000</td></tr><tr><td>θz</td><td>-45.00000</td></tr></table></td><td><table><tr><td>x</td><td>0.00000</td></tr><tr><td>y</td><td>0.00000</td></tr><tr><td>z</td><td>0.00000</td></tr></table></td></tr></table>"
     },
     "metadata": {},
     "execution_count": 4
    }
   ],
   "source": [
    "fa"
   ]
  },
  {
   "cell_type": "code",
   "execution_count": 5,
   "metadata": {
    "tags": []
   },
   "outputs": [
    {
     "output_type": "stream",
     "name": "stdout",
     "text": "&lt;Frame instance at 2450760043920&gt;\nrotation\n[[ 1. -0.  0.]\n [ 0.  1.  0.]\n [ 0. -0.  1.]]\nFixed angles (xyz, extrinsic, deg.)\n[0. 0. 0.]\nEuler angles (XYZ, intrinsic, deg.)\n[0. 0. 0.]\ntranslation\n[1 1 4]\n"
    }
   ],
   "source": [
    "print(fb)"
   ]
  },
  {
   "cell_type": "markdown",
   "metadata": {},
   "source": [
    "They have a rotation and translation component:"
   ]
  },
  {
   "cell_type": "code",
   "execution_count": 6,
   "metadata": {},
   "outputs": [
    {
     "output_type": "execute_result",
     "data": {
      "text/plain": "&lt;Vector at 2452389237424&gt; [1 1 4]",
      "text/html": "<table><tr><td>x</td><td>1.00000</td></tr><tr><td>y</td><td>1.00000</td></tr><tr><td>z</td><td>4.00000</td></tr></table>"
     },
     "metadata": {},
     "execution_count": 6
    }
   ],
   "source": [
    "fc.translation"
   ]
  },
  {
   "cell_type": "code",
   "execution_count": 7,
   "metadata": {},
   "outputs": [
    {
     "output_type": "execute_result",
     "data": {
      "text/plain": "&lt;geo3d.geometry.RotationMatrix at 0x23afdca1280&gt;",
      "text/html": "<table><tr><td>0.70710678</td><td>0.70710678</td><td>0.00000000</td></tr><tr><td>0.70710678</td><td>-0.70710678</td><td>0.00000000</td></tr><tr><td>0.00000000</td><td>-0.00000000</td><td>-1.00000000</td></tr></table>"
     },
     "metadata": {},
     "execution_count": 7
    }
   ],
   "source": [
    "fc.rotation"
   ]
  },
  {
   "cell_type": "markdown",
   "metadata": {},
   "source": [
    "The rotation can be expressed as Euler angles."
   ]
  },
  {
   "cell_type": "code",
   "execution_count": 8,
   "metadata": {},
   "outputs": [
    {
     "output_type": "execute_result",
     "data": {
      "text/plain": "array([180.,   0.,  45.])"
     },
     "metadata": {},
     "execution_count": 8
    }
   ],
   "source": [
    "fc.euler_angles('xyz', degrees='True')"
   ]
  },
  {
   "cell_type": "markdown",
   "metadata": {},
   "source": [
    "## Frame to frame transformations "
   ]
  },
  {
   "cell_type": "markdown",
   "metadata": {},
   "source": [
    "A frame can be expressed in a different frame. "
   ]
  },
  {
   "cell_type": "code",
   "execution_count": 9,
   "metadata": {},
   "outputs": [
    {
     "output_type": "execute_result",
     "data": {
      "text/plain": "&lt;geo3d.geometry.Frame at 0x23afdca1940&gt;",
      "text/html": "\n            <table>\n                <tr>\n                    <th>rotation matrix</th>\n                    <th>Fixed angles<br>(xyz, extr., deg.)</th>\n                    <th>Euler angles<br>(xyz, intr., deg.)</th>\n                    <th>translation<br></th>\n                </tr>\n                <tr><td><table><tr><td>0.70710678</td><td>0.70710678</td><td>0.00000000</td></tr><tr><td>0.70710678</td><td>-0.70710678</td><td>0.00000000</td></tr><tr><td>0.00000000</td><td>0.00000000</td><td>-1.00000000</td></tr></table></td><td><table><tr><td>θx</td><td>180.00000</td></tr><tr><td>θy</td><td>0.00000</td></tr><tr><td>θz</td><td>45.00000</td></tr></table></td><td><table><tr><td>θx</td><td>180.00000</td></tr><tr><td>θy</td><td>0.00000</td></tr><tr><td>θz</td><td>-45.00000</td></tr></table></td><td><table><tr><td>x</td><td>1.41421</td></tr><tr><td>y</td><td>0.00000</td></tr><tr><td>z</td><td>-4.00000</td></tr></table></td></tr></table>"
     },
     "metadata": {},
     "execution_count": 9
    }
   ],
   "source": [
    "fb.express_in_frame(fa)"
   ]
  },
  {
   "cell_type": "markdown",
   "metadata": {},
   "source": [
    "This yields the frame-to-frame transformation from fA to fB, represented in fA."
   ]
  },
  {
   "cell_type": "markdown",
   "metadata": {},
   "source": [
    "The same frame-to-frame transformation matrix, but given in the original (unit) frame is "
   ]
  },
  {
   "cell_type": "code",
   "execution_count": 10,
   "metadata": {},
   "outputs": [
    {
     "output_type": "execute_result",
     "data": {
      "text/plain": "&lt;geo3d.geometry.Frame at 0x23afdca1340&gt;",
      "text/html": "\n            <table>\n                <tr>\n                    <th>rotation matrix</th>\n                    <th>Fixed angles<br>(xyz, extr., deg.)</th>\n                    <th>Euler angles<br>(xyz, intr., deg.)</th>\n                    <th>translation<br></th>\n                </tr>\n                <tr><td><table><tr><td>0.70710678</td><td>0.70710678</td><td>0.00000000</td></tr><tr><td>0.70710678</td><td>-0.70710678</td><td>0.00000000</td></tr><tr><td>0.00000000</td><td>0.00000000</td><td>-1.00000000</td></tr></table></td><td><table><tr><td>θx</td><td>180.00000</td></tr><tr><td>θy</td><td>0.00000</td></tr><tr><td>θz</td><td>45.00000</td></tr></table></td><td><table><tr><td>θx</td><td>180.00000</td></tr><tr><td>θy</td><td>0.00000</td></tr><tr><td>θz</td><td>-45.00000</td></tr></table></td><td><table><tr><td>x</td><td>1.00000</td></tr><tr><td>y</td><td>1.00000</td></tr><tr><td>z</td><td>4.00000</td></tr></table></td></tr></table>"
     },
     "metadata": {},
     "execution_count": 10
    }
   ],
   "source": [
    "transformation_between_frames(fa, fb)"
   ]
  },
  {
   "cell_type": "markdown",
   "metadata": {},
   "source": [
    "## Expression of vectors and points in frames"
   ]
  },
  {
   "cell_type": "markdown",
   "metadata": {},
   "source": [
    "Express a vector given in `original_frame` in a new frame."
   ]
  },
  {
   "cell_type": "code",
   "execution_count": 11,
   "metadata": {},
   "outputs": [
    {
     "output_type": "execute_result",
     "data": {
      "text/plain": "&lt;Vector at 2450798500736&gt; [ 2.82842712 -1.41421356  0.        ]",
      "text/html": "<table><tr><td>x</td><td>2.82843</td></tr><tr><td>y</td><td>-1.41421</td></tr><tr><td>z</td><td>0.00000</td></tr></table>"
     },
     "metadata": {},
     "execution_count": 11
    }
   ],
   "source": [
    "Vector([1,3,0]).express_in_frame(fa, original_frame=fb)"
   ]
  },
  {
   "cell_type": "markdown",
   "metadata": {},
   "source": [
    "Express a point given in `original_frame` in a new frame."
   ]
  },
  {
   "cell_type": "code",
   "execution_count": 12,
   "metadata": {},
   "outputs": [
    {
     "output_type": "execute_result",
     "data": {
      "text/plain": "&lt;Point at 2452389210528&gt; [  7.07106781   1.41421356 -24.        ]",
      "text/html": "<table><tr><td>x</td><td>7.07107</td></tr><tr><td>y</td><td>1.41421</td></tr><tr><td>z</td><td>-24.00000</td></tr></table>"
     },
     "metadata": {},
     "execution_count": 12
    }
   ],
   "source": [
    "Point([5,3,20]).express_in_frame(fa, original_frame=fb)"
   ]
  }
 ],
 "metadata": {
  "kernelspec": {
   "name": "Python 3.8.5 64-bit ('gims')",
   "display_name": "Python 3.8.5 64-bit ('gims')",
   "metadata": {
    "interpreter": {
     "hash": "4ca4fc9164954e8241c00f9782d67dac38f02a1bbc6e3221fc49530f6a5642f5"
    }
   }
  },
  "language_info": {
   "codemirror_mode": {
    "name": "ipython",
    "version": 3
   },
   "file_extension": ".py",
   "mimetype": "text/x-python",
   "name": "python",
   "nbconvert_exporter": "python",
   "pygments_lexer": "ipython3",
   "version": "3.8.5-final"
  }
 },
 "nbformat": 4,
 "nbformat_minor": 2
}