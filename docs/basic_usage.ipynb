{
 "cells": [
  {
   "cell_type": "markdown",
   "metadata": {},
   "source": [
    "# Basic usage of geo3d"
   ]
  },
  {
   "cell_type": "code",
   "execution_count": 1,
   "metadata": {},
   "outputs": [],
   "source": [
    "from geo3d import frame_wizard, Vector, Point, RotationMatrix, Frame, transformation_between_frames\n",
    "import numpy as np"
   ]
  },
  {
   "cell_type": "markdown",
   "metadata": {},
   "source": [
    "## Frame creation"
   ]
  },
  {
   "cell_type": "markdown",
   "metadata": {},
   "source": [
    "### Manual Frame cration\n",
    "Manually create frame from given rotation Euler angles and translation vector."
   ]
  },
  {
   "cell_type": "code",
   "execution_count": 2,
   "metadata": {},
   "outputs": [
    {
     "output_type": "execute_result",
     "data": {
      "text/plain": "<geo3d.geometry.Frame at 0x4d77a00>",
      "text/html": "\n            <table>\n                <tr>\n                    <th>rotation matrix</th>\n                    <th>Fixed angles<br>(xyz, extr., deg.)</th>\n                    <th>Euler angles<br>(xyz, intr., deg.)</th>\n                    <th>translation<br></th>\n                </tr>\n                <tr><td><table><tr><td>0.19245009</td><td>0.41147560</td><td>-0.89087081</td></tr><tr><td>0.19245009</td><td>0.87438565</td><td>0.44543540</td></tr><tr><td>0.96225045</td><td>-0.25717225</td><td>0.08908708</td></tr></table></td><td><table><tr><td>θx</td><td>-70.89339</td></tr><tr><td>θy</td><td>-74.20683</td></tr><tr><td>θz</td><td>45.00000</td></tr></table></td><td><table><tr><td>θx</td><td>-78.69007</td></tr><tr><td>θy</td><td>-62.98288</td></tr><tr><td>θz</td><td>-64.93417</td></tr></table></td><td><table><tr><td>x</td><td>3.00000</td></tr><tr><td>y</td><td>4.00000</td></tr><tr><td>z</td><td>6.00000</td></tr></table></td></tr></table>"
     },
     "metadata": {},
     "execution_count": 2
    }
   ],
   "source": [
    "rot = RotationMatrix.from_euler_angles('xyz', [-70.89339465, -74.20683095,  45], degrees=True)\n",
    "vec = Vector([3,4,6])\n",
    "Frame(rot,vec)"
   ]
  },
  {
   "cell_type": "markdown",
   "metadata": {},
   "source": [
    "### The Frame Wizard\n",
    "Create two frames using a Frame Wizard (comparable to the one in Spatial Analyzer).\n",
    "Frames are defined as transformations starting from a unit frame (no translation and rotation)."
   ]
  },
  {
   "cell_type": "code",
   "execution_count": 3,
   "metadata": {},
   "outputs": [],
   "source": [
    "fa = frame_wizard(Vector([1,1,5]),Vector([1,2,0]), 'x', 'y', origin=[3,4,6])\n",
    "fb = frame_wizard(Vector([1,2,0]),Vector([-1,-1,-5]), 'x', 'y', origin=[6,4,6])"
   ]
  },
  {
   "cell_type": "code",
   "execution_count": 4,
   "metadata": {},
   "outputs": [
    {
     "output_type": "execute_result",
     "data": {
      "text/plain": "<geo3d.geometry.Frame at 0x292858b0>",
      "text/html": "\n            <table>\n                <tr>\n                    <th>rotation matrix</th>\n                    <th>Fixed angles<br>(xyz, extr., deg.)</th>\n                    <th>Euler angles<br>(xyz, intr., deg.)</th>\n                    <th>translation<br></th>\n                </tr>\n                <tr><td><table><tr><td>0.19245009</td><td>0.41147560</td><td>-0.89087081</td></tr><tr><td>0.19245009</td><td>0.87438565</td><td>0.44543540</td></tr><tr><td>0.96225045</td><td>-0.25717225</td><td>0.08908708</td></tr></table></td><td><table><tr><td>θx</td><td>-70.89339</td></tr><tr><td>θy</td><td>-74.20683</td></tr><tr><td>θz</td><td>45.00000</td></tr></table></td><td><table><tr><td>θx</td><td>-78.69007</td></tr><tr><td>θy</td><td>-62.98288</td></tr><tr><td>θz</td><td>-64.93417</td></tr></table></td><td><table><tr><td>x</td><td>3.00000</td></tr><tr><td>y</td><td>4.00000</td></tr><tr><td>z</td><td>6.00000</td></tr></table></td></tr></table>"
     },
     "metadata": {},
     "execution_count": 4
    }
   ],
   "source": [
    "fa"
   ]
  },
  {
   "cell_type": "code",
   "execution_count": 5,
   "metadata": {
    "tags": []
   },
   "outputs": [
    {
     "output_type": "stream",
     "name": "stdout",
     "text": "<Frame instance at 693358400>\nrotation\n[[ 0.4472136  -0.07968191 -0.89087081]\n [ 0.89442719  0.03984095  0.4454354 ]\n [ 0.         -0.99602384  0.08908708]]\nFixed angles (xyz, extrinsic, deg.)\n[-84.8889103    0.          63.43494882]\nEuler angles (XYZ, intrinsic, deg.)\n[-78.69006753 -62.98287678  10.10261179]\ntranslation\n[6 4 6]\n"
    }
   ],
   "source": [
    "print(fb)"
   ]
  },
  {
   "cell_type": "markdown",
   "metadata": {},
   "source": [
    "They have a rotation and translation component:"
   ]
  },
  {
   "cell_type": "code",
   "execution_count": 6,
   "metadata": {},
   "outputs": [
    {
     "output_type": "execute_result",
     "data": {
      "text/plain": "<Vector at 81280400> [6 4 6]",
      "text/html": "<table><tr><td>x</td><td>6.00000</td></tr><tr><td>y</td><td>4.00000</td></tr><tr><td>z</td><td>6.00000</td></tr></table>"
     },
     "metadata": {},
     "execution_count": 6
    }
   ],
   "source": [
    "fb.translation"
   ]
  },
  {
   "cell_type": "code",
   "execution_count": 7,
   "metadata": {},
   "outputs": [
    {
     "output_type": "execute_result",
     "data": {
      "text/plain": "<geo3d.geometry.RotationMatrix at 0x16dfc4c0>",
      "text/html": "<table><tr><td>0.44721360</td><td>-0.07968191</td><td>-0.89087081</td></tr><tr><td>0.89442719</td><td>0.03984095</td><td>0.44543540</td></tr><tr><td>0.00000000</td><td>-0.99602384</td><td>0.08908708</td></tr></table>"
     },
     "metadata": {},
     "execution_count": 7
    }
   ],
   "source": [
    "fb.rotation"
   ]
  },
  {
   "cell_type": "markdown",
   "metadata": {},
   "source": [
    "The rotation can be expressed as Euler angles."
   ]
  },
  {
   "cell_type": "code",
   "execution_count": 9,
   "metadata": {},
   "outputs": [
    {
     "output_type": "execute_result",
     "data": {
      "text/plain": "array([-84.8889103 ,   0.        ,  63.43494882])"
     },
     "metadata": {},
     "execution_count": 9
    }
   ],
   "source": [
    "fb.euler_angles('xyz', degrees='True')"
   ]
  },
  {
   "cell_type": "markdown",
   "metadata": {},
   "source": [
    "## Frame to frame transformations "
   ]
  },
  {
   "cell_type": "markdown",
   "metadata": {},
   "source": [
    "A frame can be expressed in a different frame. "
   ]
  },
  {
   "cell_type": "code",
   "execution_count": 10,
   "metadata": {},
   "outputs": [
    {
     "output_type": "execute_result",
     "data": {
      "text/plain": "<geo3d.geometry.Frame at 0x29471040>",
      "text/html": "\n            <table>\n                <tr>\n                    <th>rotation matrix</th>\n                    <th>Fixed angles<br>(xyz, extr., deg.)</th>\n                    <th>Euler angles<br>(xyz, intr., deg.)</th>\n                    <th>translation<br></th>\n                </tr>\n                <tr><td><table><tr><td>0.25819889</td><td>-0.96609178</td><td>-0.00000000</td></tr><tr><td>0.96609178</td><td>0.25819889</td><td>0.00000000</td></tr><tr><td>-0.00000000</td><td>-0.00000000</td><td>1.00000000</td></tr></table></td><td><table><tr><td>θx</td><td>-0.00000</td></tr><tr><td>θy</td><td>0.00000</td></tr><tr><td>θz</td><td>75.03678</td></tr></table></td><td><table><tr><td>θx</td><td>0.00000</td></tr><tr><td>θy</td><td>0.00000</td></tr><tr><td>θz</td><td>75.03678</td></tr></table></td><td><table><tr><td>x</td><td>0.57735</td></tr><tr><td>y</td><td>1.23443</td></tr><tr><td>z</td><td>-2.67261</td></tr></table></td></tr></table>"
     },
     "metadata": {},
     "execution_count": 10
    }
   ],
   "source": [
    "fb.express_in_frame(fa)"
   ]
  },
  {
   "cell_type": "markdown",
   "metadata": {},
   "source": [
    "This yields the frame-to-frame transformation from fA to fB, represented in fA."
   ]
  },
  {
   "cell_type": "markdown",
   "metadata": {},
   "source": [
    "The same frame-to-frame transformation matrix, but given in the original (unit) frame is "
   ]
  },
  {
   "cell_type": "code",
   "execution_count": 12,
   "metadata": {},
   "outputs": [
    {
     "output_type": "execute_result",
     "data": {
      "text/plain": "<geo3d.geometry.Frame at 0x2c029640>",
      "text/html": "\n            <table>\n                <tr>\n                    <th>rotation matrix</th>\n                    <th>Fixed angles<br>(xyz, extr., deg.)</th>\n                    <th>Euler angles<br>(xyz, intr., deg.)</th>\n                    <th>translation<br></th>\n                </tr>\n                <tr><td><table><tr><td>0.84692993</td><td>-0.38043182</td><td>0.37145838</td></tr><tr><td>-0.20829922</td><td>0.40538165</td><td>0.89009952</td></tr><tr><td>-0.48920459</td><td>-0.83122641</td><td>0.26408620</td></tr></table></td><td><table><tr><td>θx</td><td>-72.37460</td></tr><tr><td>θy</td><td>29.28831</td></tr><tr><td>θz</td><td>-13.81743</td></tr></table></td><td><table><tr><td>θx</td><td>-73.47475</td></tr><tr><td>θy</td><td>21.80559</td></tr><tr><td>θz</td><td>24.18910</td></tr></table></td><td><table><tr><td>x</td><td>3.00000</td></tr><tr><td>y</td><td>0.00000</td></tr><tr><td>z</td><td>0.00000</td></tr></table></td></tr></table>"
     },
     "metadata": {},
     "execution_count": 12
    }
   ],
   "source": [
    "transformation_between_frames(fa,fb)"
   ]
  },
  {
   "cell_type": "markdown",
   "metadata": {},
   "source": [
    "## Expression of vectors and points in frames"
   ]
  },
  {
   "cell_type": "markdown",
   "metadata": {},
   "source": [
    "Express a vector given in `original_frame` in a new frame."
   ]
  },
  {
   "cell_type": "code",
   "execution_count": 13,
   "metadata": {},
   "outputs": [
    {
     "output_type": "execute_result",
     "data": {
      "text/plain": "<Vector at 738522688> [-0.29436552  1.00784573 -2.98288383]",
      "text/html": "<table><tr><td>x</td><td>-0.29437</td></tr><tr><td>y</td><td>1.00785</td></tr><tr><td>z</td><td>-2.98288</td></tr></table>"
     },
     "metadata": {},
     "execution_count": 13
    }
   ],
   "source": [
    "Vector([1,3,0]).express_in_frame(fa, original_frame=fb)"
   ]
  },
  {
   "cell_type": "markdown",
   "metadata": {},
   "source": [
    "Express a point given in `original_frame` in a new frame."
   ]
  },
  {
   "cell_type": "code",
   "execution_count": 14,
   "metadata": {},
   "outputs": [
    {
     "output_type": "execute_result",
     "data": {
      "text/plain": "<Point at 738357648> [13.06331157 17.35174152 -1.12559193]",
      "text/html": "<table><tr><td>x</td><td>13.06331</td></tr><tr><td>y</td><td>17.35174</td></tr><tr><td>z</td><td>-1.12559</td></tr></table>"
     },
     "metadata": {},
     "execution_count": 14
    }
   ],
   "source": [
    "Point([5,3,20]).express_in_frame(fa, original_frame=fb)"
   ]
  },
  {
   "cell_type": "code",
   "execution_count": null,
   "metadata": {},
   "outputs": [],
   "source": []
  }
 ],
 "metadata": {
  "kernelspec": {
   "display_name": "Python 3.8.3 64-bit ('gims': venv)",
   "language": "python",
   "name": "python_defaultSpec_1599566723405"
  },
  "language_info": {
   "codemirror_mode": {
    "name": "ipython",
    "version": 3
   },
   "file_extension": ".py",
   "mimetype": "text/x-python",
   "name": "python",
   "nbconvert_exporter": "python",
   "pygments_lexer": "ipython3",
   "version": "3.8.3-final"
  }
 },
 "nbformat": 4,
 "nbformat_minor": 2
}