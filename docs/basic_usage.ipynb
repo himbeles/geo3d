{
 "cells": [
  {
   "cell_type": "markdown",
   "metadata": {},
   "source": [
    "# Basic usage of geo3d"
   ]
  },
  {
   "cell_type": "code",
   "execution_count": 1,
   "metadata": {},
   "outputs": [],
   "source": [
    "from geo3d import frame_wizard, Vector, Point, RotationMatrix, Frame, transformation_between_frames\n",
    "import numpy as np"
   ]
  },
  {
   "cell_type": "markdown",
   "metadata": {},
   "source": [
    "## Frame creation"
   ]
  },
  {
   "cell_type": "markdown",
   "metadata": {},
   "source": [
    "### Manual Frame cration\n",
    "Manually create frame from given rotation Euler angles and translation vector."
   ]
  },
  {
   "cell_type": "code",
   "execution_count": 2,
   "metadata": {},
   "outputs": [
    {
     "output_type": "execute_result",
     "data": {
      "text/plain": "&lt;geo3d.geometry.Frame at 0x1319b102a90&gt;",
      "text/html": "\n            <table>\n                <tr>\n                    <th>rotation matrix</th>\n                    <th>Fixed angles<br>(xyz, extr., deg.)</th>\n                    <th>Euler angles<br>(xyz, intr., deg.)</th>\n                    <th>translation<br></th>\n                </tr>\n                <tr><td><table><tr><td>0.19245009</td><td>0.41147560</td><td>-0.89087081</td></tr><tr><td>0.19245009</td><td>0.87438565</td><td>0.44543540</td></tr><tr><td>0.96225045</td><td>-0.25717225</td><td>0.08908708</td></tr></table></td><td><table><tr><td>θx</td><td>-70.89339</td></tr><tr><td>θy</td><td>-74.20683</td></tr><tr><td>θz</td><td>45.00000</td></tr></table></td><td><table><tr><td>θx</td><td>-78.69007</td></tr><tr><td>θy</td><td>-62.98288</td></tr><tr><td>θz</td><td>-64.93417</td></tr></table></td><td><table><tr><td>x</td><td>3.00000</td></tr><tr><td>y</td><td>4.00000</td></tr><tr><td>z</td><td>6.00000</td></tr></table></td></tr></table>"
     },
     "metadata": {},
     "execution_count": 2
    }
   ],
   "source": [
    "rot = RotationMatrix.from_euler_angles('xyz', [-70.89339465, -74.20683095,  45], degrees=True)\n",
    "vec = Vector([3,4,6])\n",
    "Frame(rot,vec)"
   ]
  },
  {
   "cell_type": "markdown",
   "metadata": {},
   "source": [
    "### The Frame Wizard\n",
    "Create two frames using a Frame Wizard (comparable to the one in Spatial Analyzer).\n",
    "Frames are defined as transformations starting from a unit frame (no translation and rotation)."
   ]
  },
  {
   "cell_type": "code",
   "execution_count": 3,
   "metadata": {},
   "outputs": [],
   "source": [
    "fa = frame_wizard(Vector([1,1,5]),Vector([1,2,0]), 'x', 'y', origin=[3,4,6])\n",
    "fb = frame_wizard(Vector([1,2,0]),Vector([-1,-1,-5]), 'x', 'y', origin=[6,4,6])"
   ]
  },
  {
   "cell_type": "code",
   "execution_count": 4,
   "metadata": {},
   "outputs": [
    {
     "output_type": "execute_result",
     "data": {
      "text/plain": "&lt;geo3d.geometry.Frame at 0x131bc22d700&gt;",
      "text/html": "\n            <table>\n                <tr>\n                    <th>rotation matrix</th>\n                    <th>Fixed angles<br>(xyz, extr., deg.)</th>\n                    <th>Euler angles<br>(xyz, intr., deg.)</th>\n                    <th>translation<br></th>\n                </tr>\n                <tr><td><table><tr><td>0.19245009</td><td>0.41147560</td><td>-0.89087081</td></tr><tr><td>0.19245009</td><td>0.87438565</td><td>0.44543540</td></tr><tr><td>0.96225045</td><td>-0.25717225</td><td>0.08908708</td></tr></table></td><td><table><tr><td>θx</td><td>-70.89339</td></tr><tr><td>θy</td><td>-74.20683</td></tr><tr><td>θz</td><td>45.00000</td></tr></table></td><td><table><tr><td>θx</td><td>-78.69007</td></tr><tr><td>θy</td><td>-62.98288</td></tr><tr><td>θz</td><td>-64.93417</td></tr></table></td><td><table><tr><td>x</td><td>3.00000</td></tr><tr><td>y</td><td>4.00000</td></tr><tr><td>z</td><td>6.00000</td></tr></table></td></tr></table>"
     },
     "metadata": {},
     "execution_count": 4
    }
   ],
   "source": [
    "fa"
   ]
  },
  {
   "cell_type": "code",
   "execution_count": 5,
   "metadata": {},
   "outputs": [
    {
     "output_type": "execute_result",
     "data": {
      "text/plain": "&#39;0.447213595500 -0.079681907289 -0.890870806375 6.000000000000 0.894427191000 0.039840953644 0.445435403187 4.000000000000 0.000000000000 -0.996023841112 0.089087080637 6.000000000000 0.000000000000 0.000000000000 0.000000000000 1.000000000000&#39;"
     },
     "metadata": {},
     "execution_count": 5
    }
   ],
   "source": [
    "fb.SA_pastable_string()"
   ]
  },
  {
   "cell_type": "code",
   "execution_count": 6,
   "metadata": {
    "tags": []
   },
   "outputs": [
    {
     "output_type": "stream",
     "name": "stdout",
     "text": "&lt;Frame instance at 1313121747968&gt;\nrotation\n[[ 0.4472136  -0.07968191 -0.89087081]\n [ 0.89442719  0.03984095  0.4454354 ]\n [ 0.         -0.99602384  0.08908708]]\nFixed angles (xyz, extrinsic, deg.)\n[-84.8889103    0.          63.43494882]\nEuler angles (XYZ, intrinsic, deg.)\n[-78.69006753 -62.98287678  10.10261179]\ntranslation\n[6 4 6]\n"
    }
   ],
   "source": [
    "print(fb)"
   ]
  },
  {
   "cell_type": "markdown",
   "metadata": {},
   "source": [
    "They have a rotation and translation component:"
   ]
  },
  {
   "cell_type": "code",
   "execution_count": 7,
   "metadata": {},
   "outputs": [
    {
     "output_type": "execute_result",
     "data": {
      "text/plain": "&lt;Vector at 1312566554000&gt; [6 4 6]",
      "text/html": "<table><tr><td>x</td><td>6.00000</td></tr><tr><td>y</td><td>4.00000</td></tr><tr><td>z</td><td>6.00000</td></tr></table>"
     },
     "metadata": {},
     "execution_count": 7
    }
   ],
   "source": [
    "fb.translation"
   ]
  },
  {
   "cell_type": "code",
   "execution_count": 8,
   "metadata": {},
   "outputs": [
    {
     "output_type": "execute_result",
     "data": {
      "text/plain": "&lt;geo3d.geometry.RotationMatrix at 0x1319b0fb8b0&gt;",
      "text/html": "<table><tr><td>0.44721360</td><td>-0.07968191</td><td>-0.89087081</td></tr><tr><td>0.89442719</td><td>0.03984095</td><td>0.44543540</td></tr><tr><td>0.00000000</td><td>-0.99602384</td><td>0.08908708</td></tr></table>"
     },
     "metadata": {},
     "execution_count": 8
    }
   ],
   "source": [
    "fb.rotation"
   ]
  },
  {
   "cell_type": "markdown",
   "metadata": {},
   "source": [
    "The rotation can be expressed as Euler angles."
   ]
  },
  {
   "cell_type": "code",
   "execution_count": 9,
   "metadata": {},
   "outputs": [
    {
     "output_type": "execute_result",
     "data": {
      "text/plain": "array([-84.8889103 ,   0.        ,  63.43494882])"
     },
     "metadata": {},
     "execution_count": 9
    }
   ],
   "source": [
    "fb.euler_angles('xyz', degrees='True')"
   ]
  },
  {
   "cell_type": "markdown",
   "metadata": {},
   "source": [
    "## Frame to frame transformations "
   ]
  },
  {
   "cell_type": "markdown",
   "metadata": {},
   "source": [
    "A frame can be expressed in a different frame. "
   ]
  },
  {
   "cell_type": "code",
   "execution_count": 10,
   "metadata": {},
   "outputs": [
    {
     "output_type": "execute_result",
     "data": {
      "text/plain": "&lt;geo3d.geometry.Frame at 0x1319b102190&gt;",
      "text/html": "\n            <table>\n                <tr>\n                    <th>rotation matrix</th>\n                    <th>Fixed angles<br>(xyz, extr., deg.)</th>\n                    <th>Euler angles<br>(xyz, intr., deg.)</th>\n                    <th>translation<br></th>\n                </tr>\n                <tr><td><table><tr><td>0.25819889</td><td>-0.96609178</td><td>-0.00000000</td></tr><tr><td>0.96609178</td><td>0.25819889</td><td>0.00000000</td></tr><tr><td>-0.00000000</td><td>-0.00000000</td><td>1.00000000</td></tr></table></td><td><table><tr><td>θx</td><td>-0.00000</td></tr><tr><td>θy</td><td>0.00000</td></tr><tr><td>θz</td><td>75.03678</td></tr></table></td><td><table><tr><td>θx</td><td>0.00000</td></tr><tr><td>θy</td><td>0.00000</td></tr><tr><td>θz</td><td>75.03678</td></tr></table></td><td><table><tr><td>x</td><td>0.57735</td></tr><tr><td>y</td><td>1.23443</td></tr><tr><td>z</td><td>-2.67261</td></tr></table></td></tr></table>"
     },
     "metadata": {},
     "execution_count": 10
    }
   ],
   "source": [
    "fb.express_in_frame(fa)"
   ]
  },
  {
   "cell_type": "markdown",
   "metadata": {},
   "source": [
    "This yields the frame-to-frame transformation from fA to fB, represented in fA."
   ]
  },
  {
   "cell_type": "markdown",
   "metadata": {},
   "source": [
    "The same frame-to-frame transformation matrix, but given in the original (unit) frame is "
   ]
  },
  {
   "cell_type": "code",
   "execution_count": 9,
   "metadata": {},
   "outputs": [
    {
     "output_type": "execute_result",
     "data": {
      "text/plain": "&lt;geo3d.geometry.Frame at 0x1a85af965b0&gt;",
      "text/html": "\n            <table>\n                <tr>\n                    <th>rotation matrix</th>\n                    <th>Fixed angles<br>(xyz, extr., deg.)</th>\n                    <th>Euler angles<br>(xyz, intr., deg.)</th>\n                    <th>translation<br></th>\n                </tr>\n                <tr><td><table><tr><td>0.84692993</td><td>-0.38043182</td><td>0.37145838</td></tr><tr><td>-0.20829922</td><td>0.40538165</td><td>0.89009952</td></tr><tr><td>-0.48920459</td><td>-0.83122641</td><td>0.26408620</td></tr></table></td><td><table><tr><td>θx</td><td>-72.37460</td></tr><tr><td>θy</td><td>29.28831</td></tr><tr><td>θz</td><td>-13.81743</td></tr></table></td><td><table><tr><td>θx</td><td>-73.47475</td></tr><tr><td>θy</td><td>21.80559</td></tr><tr><td>θz</td><td>24.18910</td></tr></table></td><td><table><tr><td>x</td><td>3.00000</td></tr><tr><td>y</td><td>0.00000</td></tr><tr><td>z</td><td>0.00000</td></tr></table></td></tr></table>"
     },
     "metadata": {},
     "execution_count": 9
    }
   ],
   "source": []
  },
  {
   "cell_type": "markdown",
   "metadata": {},
   "source": [
    "## Expression of vectors and points in frames"
   ]
  },
  {
   "cell_type": "markdown",
   "metadata": {},
   "source": [
    "Express a vector given in `original_frame` in a new frame."
   ]
  },
  {
   "cell_type": "code",
   "execution_count": 11,
   "metadata": {},
   "outputs": [
    {
     "output_type": "execute_result",
     "data": {
      "text/plain": "&lt;Vector at 1313123721280&gt; [-2.64007646e+00  1.74068845e+00 -3.09615454e-17]",
      "text/html": "<table><tr><td>x</td><td>-2.64008</td></tr><tr><td>y</td><td>1.74069</td></tr><tr><td>z</td><td>-0.00000</td></tr></table>"
     },
     "metadata": {},
     "execution_count": 11
    }
   ],
   "source": [
    "Vector([1,3,0]).express_in_frame(fa, original_frame=fb)"
   ]
  },
  {
   "cell_type": "markdown",
   "metadata": {},
   "source": [
    "Express a point given in `original_frame` in a new frame."
   ]
  },
  {
   "cell_type": "code",
   "execution_count": 13,
   "metadata": {},
   "outputs": [
    {
     "output_type": "execute_result",
     "data": {
      "text/plain": "&lt;Point at 1312570216016&gt; (-1.029930631312456, 6.839482384334699, 17.327387580875754)",
      "text/html": "<table><tr><td>x</td><td>-1.02993</td></tr><tr><td>y</td><td>6.83948</td></tr><tr><td>z</td><td>17.32739</td></tr></table>"
     },
     "metadata": {},
     "execution_count": 13
    }
   ],
   "source": [
    "Point([5,3,20]).express_in_frame(fa, original_frame=fb)"
   ]
  },
  {
   "cell_type": "code",
   "execution_count": null,
   "metadata": {},
   "outputs": [],
   "source": []
  }
 ],
 "metadata": {
  "kernelspec": {
   "name": "python_defaultSpec_1601999552944",
   "display_name": "Python 3.8.5 64-bit ('gims')",
   "metadata": {
    "interpreter": {
     "hash": "4ca4fc9164954e8241c00f9782d67dac38f02a1bbc6e3221fc49530f6a5642f5"
    }
   }
  },
  "language_info": {
   "codemirror_mode": {
    "name": "ipython",
    "version": 3
   },
   "file_extension": ".py",
   "mimetype": "text/x-python",
   "name": "python",
   "nbconvert_exporter": "python",
   "pygments_lexer": "ipython3",
   "version": "3.8.5-final"
  }
 },
 "nbformat": 4,
 "nbformat_minor": 2
}