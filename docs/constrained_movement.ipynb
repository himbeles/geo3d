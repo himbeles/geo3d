{
 "cells": [
  {
   "cell_type": "code",
   "execution_count": 3,
   "metadata": {},
   "outputs": [],
   "source": [
    "import numpy as np\n",
    "from geo3d.constraints import constrained_movement_2D, constrained_movement_3D\n",
    "from geo3d.units import arcsec_in_degrees"
   ]
  },
  {
   "cell_type": "markdown",
   "metadata": {},
   "source": [
    "## constrained movement in 2D\n",
    "z is restrained to z=0.\n",
    "Three constraints can exactly constrain a rigid body in 2D."
   ]
  },
  {
   "cell_type": "code",
   "execution_count": 12,
   "metadata": {},
   "outputs": [],
   "source": [
    "rs = [[0,1,0], [1,1,0], [2,0,0]] # constraint positions\n",
    "cs = [[0,-1,0], [0,-1,0], [-1,0,0]] # constraint surface normal vectors\n",
    "ds = [0,0.2,0] # movement deltas of the constraints along the surface normals "
   ]
  },
  {
   "cell_type": "code",
   "execution_count": 13,
   "metadata": {},
   "outputs": [
    {
     "data": {
      "text/html": [
       "\n",
       "            <table>\n",
       "                <tr>\n",
       "                    <th>rotation matrix</th>\n",
       "                    <th>Euler angles<br>(XYZ, extr., deg.)</th>\n",
       "                    <th>Euler angles<br>(XYZ, intr., deg.)</th>\n",
       "                    <th>translation<br></th>\n",
       "                </tr>\n",
       "                <tr><td><table><tr><td>0.98058068</td><td>0.19611614</td><td>0.00000000</td></tr><tr><td>-0.19611614</td><td>0.98058068</td><td>-0.00000000</td></tr><tr><td>-0.00000000</td><td>0.00000000</td><td>1.00000000</td></tr></table></td><td><table><tr><td>θx</td><td>0.00000</td></tr><tr><td>θy</td><td>0.00000</td></tr><tr><td>θz</td><td>-11.30993</td></tr></table></td><td><table><tr><td>θx</td><td>0.00000</td></tr><tr><td>θy</td><td>0.00000</td></tr><tr><td>θz</td><td>-11.30993</td></tr></table></td><td><table><tr><td>x</td><td>-0.04189</td></tr><tr><td>y</td><td>-0.01143</td></tr><tr><td>z</td><td>0.00000</td></tr></table></td></tr></table>"
      ],
      "text/plain": [
       "<geo3d.geometry.Frame at 0x8e89358>"
      ]
     },
     "execution_count": 13,
     "metadata": {},
     "output_type": "execute_result"
    }
   ],
   "source": [
    "constrained_movement_2D(rs, cs, ds)"
   ]
  },
  {
   "cell_type": "markdown",
   "metadata": {},
   "source": [
    "## constrained movement in 3D\n",
    "\n",
    "6 constraints can exactly constrain a rigid body in 3D."
   ]
  },
  {
   "cell_type": "code",
   "execution_count": 19,
   "metadata": {},
   "outputs": [],
   "source": [
    "rs = [[-65.25,  -9.33, -38.25],\n",
    "      [ 54.25, -24.83, -38.25],\n",
    "      [-54.25, -24.83, -38.25],\n",
    "      [-54.25, -16.83, -37.00],\n",
    "      [ 54.25, -16.83, -37.00],\n",
    "      [  0.00,  61.17, -37.00]\n",
    "     ]  # constraint positions\n",
    "cs = [\n",
    "    [1,0,0], \n",
    "    [0,1,0], \n",
    "    [0,1,0], \n",
    "    [0,0,1], \n",
    "    [0,0,1], \n",
    "    [0,0,1]\n",
    "    ] # constraint surface normal vectors\n",
    "ds = [0,0,0,.25,.25,.25] # movement deltas of the constraints along the surface normals "
   ]
  },
  {
   "cell_type": "code",
   "execution_count": 20,
   "metadata": {},
   "outputs": [
    {
     "data": {
      "text/html": [
       "\n",
       "            <table>\n",
       "                <tr>\n",
       "                    <th>rotation matrix</th>\n",
       "                    <th>Euler angles<br>(XYZ, extr., deg.)</th>\n",
       "                    <th>Euler angles<br>(XYZ, intr., deg.)</th>\n",
       "                    <th>translation<br></th>\n",
       "                </tr>\n",
       "                <tr><td><table><tr><td>1.00000000</td><td>0.00000000</td><td>0.00000000</td></tr><tr><td>-0.00000000</td><td>1.00000000</td><td>0.00000000</td></tr><tr><td>-0.00000000</td><td>-0.00000000</td><td>1.00000000</td></tr></table></td><td><table><tr><td>θx</td><td>-0.00000</td></tr><tr><td>θy</td><td>0.00000</td></tr><tr><td>θz</td><td>-0.00000</td></tr></table></td><td><table><tr><td>θx</td><td>0.00000</td></tr><tr><td>θy</td><td>0.00000</td></tr><tr><td>θz</td><td>0.00000</td></tr></table></td><td><table><tr><td>x</td><td>0.00000</td></tr><tr><td>y</td><td>0.00000</td></tr><tr><td>z</td><td>0.25000</td></tr></table></td></tr></table>"
      ],
      "text/plain": [
       "<geo3d.geometry.Frame at 0x8e89f60>"
      ]
     },
     "execution_count": 20,
     "metadata": {},
     "output_type": "execute_result"
    }
   ],
   "source": [
    "constrained_movement_3D(rs, cs, ds)"
   ]
  },
  {
   "cell_type": "markdown",
   "metadata": {},
   "source": [
    "## Uncertainty propagation for 3D excactly constrained movement"
   ]
  },
  {
   "cell_type": "code",
   "execution_count": 31,
   "metadata": {},
   "outputs": [],
   "source": [
    "rs = [[-65.25,  -9.33, -38.25],\n",
    "      [ 54.25, -24.83, -38.25],\n",
    "      [-54.25, -24.83, -38.25],\n",
    "      [-54.25, -16.83, -37.00],\n",
    "      [ 54.25, -16.83, -37.00],\n",
    "      [  0.00,  61.17, -37.00]\n",
    "     ]\n",
    "cs = [\n",
    "    [1,0,0], \n",
    "    [0,1,0], \n",
    "    [0,1,0], \n",
    "    [0,0,1], \n",
    "    [0,0,1], \n",
    "    [0,0,1]\n",
    "    ]"
   ]
  },
  {
   "cell_type": "markdown",
   "metadata": {},
   "source": [
    "## Propagation constraint accuracies\n",
    "\n",
    "Uncertainties of the constraints along the surface normals propagated to a total rigid body positioning uncertainty. "
   ]
  },
  {
   "cell_type": "markdown",
   "metadata": {},
   "source": [
    "### Uncorrelated uncertainties\n",
    "\n",
    "Consider uncertainties along the different constraints are uncorrelated. \n",
    "Then, take square root of the sum of squares of the the rigid-body movement parameters. "
   ]
  },
  {
   "cell_type": "code",
   "execution_count": 32,
   "metadata": {},
   "outputs": [
    {
     "name": "stdout",
     "output_type": "stream",
     "text": [
      "[57.97345551 48.12418794 74.20265875 29.20161112 22.28203187 10.64967756]\n"
     ]
    }
   ],
   "source": [
    "IP_acc = 27.6e-3\n",
    "OOP_acc = 17.9e-3\n",
    "ds_acc = [IP_acc,IP_acc,IP_acc,OOP_acc,OOP_acc,OOP_acc]\n",
    "\n",
    "ps = []\n",
    "for i,d in enumerate(ds_acc):\n",
    "    ds = np.zeros(6)\n",
    "    ds[i] = d\n",
    "    t = constrained_movement_3D(rs, cs, ds)\n",
    "    p = np.empty(6)\n",
    "    p[0:3] = t.euler_angles('xyz', degrees=True)/arcsec_in_degrees\n",
    "    p[3:]  = np.array(t.translation)*1000\n",
    "    ps.append(p)\n",
    "ps = np.array(ps)\n",
    "acc = np.sqrt(np.sum(ps**2,0))\n",
    "print(acc)"
   ]
  },
  {
   "cell_type": "markdown",
   "metadata": {},
   "source": [
    "### Stochastic propagation of constraint accuracies\n",
    "\n",
    "Stochastic simulation of Gaussian distribution of constraint accuracies."
   ]
  },
  {
   "cell_type": "code",
   "execution_count": 40,
   "metadata": {},
   "outputs": [
    {
     "name": "stdout",
     "output_type": "stream",
     "text": [
      "[55.09574244 44.24180607 73.66732076 29.76089936 22.11755524 11.22613956]\n"
     ]
    }
   ],
   "source": [
    "# stochastic uncertainty propgation\n",
    "ps = []\n",
    "for i in range(100):\n",
    "    ds = np.random.normal(scale=ds_acc)\n",
    "    t = constrained_movement_3D(rs, cs, ds)\n",
    "    p = np.empty(6)\n",
    "    p[0:3] = t.euler_angles('xyz', degrees=True)/arcsec_in_degrees\n",
    "    p[3:]  = np.array(t.translation)*1000\n",
    "    ps.append(p)\n",
    "ps = np.array(ps)\n",
    "acc = np.std(ps,0)\n",
    "print(acc)"
   ]
  }
 ],
 "metadata": {
  "kernelspec": {
   "display_name": "Python 3",
   "language": "python",
   "name": "python3"
  },
  "language_info": {
   "codemirror_mode": {
    "name": "ipython",
    "version": 3
   },
   "file_extension": ".py",
   "mimetype": "text/x-python",
   "name": "python",
   "nbconvert_exporter": "python",
   "pygments_lexer": "ipython3",
   "version": "3.7.3"
  }
 },
 "nbformat": 4,
 "nbformat_minor": 2
}
